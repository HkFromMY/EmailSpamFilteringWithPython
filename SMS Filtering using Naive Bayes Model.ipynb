{
 "cells": [
  {
   "cell_type": "code",
   "execution_count": 7,
   "id": "floppy-brass",
   "metadata": {},
   "outputs": [],
   "source": [
    "import numpy as np\n",
    "import pandas as pd\n",
    "import matplotlib.pyplot as plt\n",
    "import seaborn as sns"
   ]
  },
  {
   "cell_type": "markdown",
   "id": "outdoor-clarity",
   "metadata": {},
   "source": [
    "### Read in data from file\n",
    "\n",
    "Source: https://archive.ics.uci.edu/ml/datasets/SMS+Spam+Collection"
   ]
  },
  {
   "cell_type": "code",
   "execution_count": 8,
   "id": "offensive-testing",
   "metadata": {},
   "outputs": [],
   "source": [
    "dataset = []\n",
    "with open(\"data\\\\SMSSpamCollection\") as file:\n",
    "    for line in file:\n",
    "        dataset.append(line.strip().split(\"\\t\"))\n",
    "\n",
    "df = pd.DataFrame(\n",
    "    dataset,\n",
    "    columns=['labels', 'message']\n",
    ")"
   ]
  },
  {
   "cell_type": "code",
   "execution_count": 9,
   "id": "precious-saver",
   "metadata": {},
   "outputs": [],
   "source": [
    "from sklearn.feature_extraction.text import CountVectorizer, TfidfVectorizer\n",
    "\n",
    "vectorizer = CountVectorizer()\n",
    "X = vectorizer.fit_transform(df['message']).toarray()\n",
    "y = df['labels']"
   ]
  },
  {
   "cell_type": "code",
   "execution_count": 10,
   "id": "standing-private",
   "metadata": {},
   "outputs": [
    {
     "data": {
      "text/plain": [
       "((5574, 8752), (5574,))"
      ]
     },
     "execution_count": 10,
     "metadata": {},
     "output_type": "execute_result"
    }
   ],
   "source": [
    "X.shape, y.shape"
   ]
  },
  {
   "cell_type": "markdown",
   "id": "eligible-pipeline",
   "metadata": {},
   "source": [
    "### Model Development"
   ]
  },
  {
   "cell_type": "code",
   "execution_count": 11,
   "id": "prime-parameter",
   "metadata": {},
   "outputs": [],
   "source": [
    "from sklearn.model_selection import train_test_split\n",
    "from sklearn.naive_bayes import BernoulliNB\n",
    "\n",
    "X_train, X_test, y_train, y_test = train_test_split(X, y, random_state=42)\n",
    "nb_model = BernoulliNB()\n",
    "nb_model.fit(X_train, y_train)\n",
    "nb_model.score(X_test, y_test)\n",
    "\n",
    "y_pred = nb_model.predict(X_test)"
   ]
  },
  {
   "cell_type": "markdown",
   "id": "authorized-convenience",
   "metadata": {},
   "source": [
    "### Model Evaluation"
   ]
  },
  {
   "cell_type": "code",
   "execution_count": 6,
   "id": "effective-correlation",
   "metadata": {},
   "outputs": [],
   "source": [
    "from sklearn.metrics import confusion_matrix\n",
    "\n",
    "cf_matrix = confusion_matrix(y_test, y_pred)\n",
    "label_names = ['True Negative', 'False Positive', 'False Negative', 'True Positive']\n",
    "label_count = cf_matrix.flatten()\n",
    "labels = np.asarray([f\"{v1}\\n{v2}\" for v1, v2 in zip(label_names, label_count)]).reshape(2, 2)\n",
    "\n",
    "accuracy = (cf_matrix[0, 0] + cf_matrix[1, 1]) / np.sum(cf_matrix)\n",
    "precision = cf_matrix[1, 1] / (cf_matrix[1, 1] + cf_matrix[1, 0])\n",
    "recall = cf_matrix[1, 1] / (cf_matrix[1, 1] + cf_matrix[0, 1])\n",
    "f1_score = 2 * (precision * recall) / (precision + recall)\n",
    "\n",
    "s = f\"Accuracy: {accuracy:.2f}\\nPrecision: {precision:.2f}\\nRecall: {recall:.2f}\\nF1_Score: {f1_score:.2f}\""
   ]
  },
  {
   "cell_type": "code",
   "execution_count": 7,
   "id": "superb-royalty",
   "metadata": {},
   "outputs": [
    {
     "data": {
      "image/png": "[encoded data removed]",
      "text/plain": [
       "<Figure size 1008x576 with 2 Axes>"
      ]
     },
     "metadata": {
      "needs_background": "light"
     },
     "output_type": "display_data"
    }
   ],
   "source": [
    "plt.figure(figsize=(14, 8))\n",
    "plt.title(\"Confusion Matrix for Naive Bayes Model\\n\")\n",
    "sns.heatmap(\n",
    "    cf_matrix,\n",
    "    cmap=\"Blues\",\n",
    "    annot=labels,\n",
    "    fmt=\"\"\n",
    ")\n",
    "\n",
    "plt.text(\n",
    "    x=0.85, \n",
    "    y=2.5, \n",
    "    s=s,\n",
    "    fontsize=14\n",
    ")\n",
    "plt.xlabel(\"Predicted Label\")\n",
    "plt.ylabel(\"True Label\")\n",
    "plt.show()"
   ]
  },
  {
   "cell_type": "code",
   "execution_count": null,
   "id": "criminal-geography",
   "metadata": {},
   "outputs": [],
   "source": []
  },
  {
   "cell_type": "code",
   "execution_count": null,
   "id": "surface-public",
   "metadata": {},
   "outputs": [],
   "source": []
  },
  {
   "cell_type": "code",
   "execution_count": null,
   "id": "geological-discrimination",
   "metadata": {},
   "outputs": [],
   "source": []
  }
 ],
 "metadata": {
  "kernelspec": {
   "display_name": "Python 3 (ipykernel)",
   "language": "python",
   "name": "python3"
  },
  "language_info": {
   "codemirror_mode": {
    "name": "ipython",
    "version": 3
   },
   "file_extension": ".py",
   "mimetype": "text/x-python",
   "name": "python",
   "nbconvert_exporter": "python",
   "pygments_lexer": "ipython3",
   "version": "3.10.2"
  }
 },
 "nbformat": 4,
 "nbformat_minor": 5
}
